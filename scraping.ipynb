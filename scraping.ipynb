{
 "cells": [
  {
   "cell_type": "code",
   "execution_count": 1,
   "metadata": {},
   "outputs": [],
   "source": [
    "import pandas as pd\n",
    "\n",
    "from time import sleep\n",
    "from selenium import webdriver\n",
    "from selenium.webdriver.common.by import By"
   ]
  },
  {
   "cell_type": "code",
   "execution_count": 2,
   "metadata": {},
   "outputs": [
    {
     "name": "stderr",
     "output_type": "stream",
     "text": [
      "C:\\Users\\dawid\\AppData\\Local\\Temp\\ipykernel_19300\\3610855689.py:1: DeprecationWarning: executable_path has been deprecated, please pass in a Service object\n",
      "  driver = webdriver.Chrome('chromedriver.exe')\n"
     ]
    }
   ],
   "source": [
    "driver = webdriver.Chrome('chromedriver.exe')\n",
    "driver.get('https://www.booking.com/searchresults.pl.html?ss=Polska&ssne=Polska&ssne_untouched=Polska&efdco=1&label=Booking-PL-GokG1qZQBGAqiSCE_k2kpgS411092421248%3Apl%3Ata%3Ap1%3Ap22.563.000%3Aac%3Aap%3Aneg%3Afi%3Atikwd-65526620%3Alp9067410%3Ali%3Adec%3Adm%3Appccp%3DUmFuZG9tSVYkc2RlIyh9Yf5EcukO1MOGv2VrE6ywbUM&sid=aa1380238aafa1ecda0d47d7b198ad2a&aid=376384&lang=pl&sb=1&src_elem=sb&src=searchresults&dest_id=170&dest_type=country&checkin=2023-07-01&checkout=2023-07-09&ltfd=1%3A7%3A7-2023%3A1&group_adults=2&no_rooms=2&group_children=2&age=10&sb_travel_purpose=leisure&fbclid=IwAR0iG1OgBR7-uR07H0f2WZ1hf7Isf5JhkWzh41B0WWr4Xo6jx7yR3flGb0s')\n",
    "sleep(2)\n",
    "\n",
    "city_table = []\n",
    "cost_table = []\n",
    "rating_tab = []\n",
    "comfort_tab = []"
   ]
  },
  {
   "cell_type": "code",
   "execution_count": 3,
   "metadata": {},
   "outputs": [
    {
     "ename": "StaleElementReferenceException",
     "evalue": "Message: stale element reference: stale element not found\n  (Session info: chrome=113.0.5672.129)\nStacktrace:\nBacktrace:\n\tGetHandleVerifier [0x011C8893+48451]\n\t(No symbol) [0x0115B8A1]\n\t(No symbol) [0x01065058]\n\t(No symbol) [0x010683F1]\n\t(No symbol) [0x01069631]\n\t(No symbol) [0x010696D0]\n\t(No symbol) [0x0108CE4D]\n\t(No symbol) [0x010AA2BC]\n\t(No symbol) [0x01089586]\n\t(No symbol) [0x010AA614]\n\t(No symbol) [0x010BC482]\n\t(No symbol) [0x010AA0B6]\n\t(No symbol) [0x01087E08]\n\t(No symbol) [0x01088F2D]\n\tGetHandleVerifier [0x01428E3A+2540266]\n\tGetHandleVerifier [0x01468959+2801161]\n\tGetHandleVerifier [0x0146295C+2776588]\n\tGetHandleVerifier [0x01252280+612144]\n\t(No symbol) [0x01164F6C]\n\t(No symbol) [0x011611D8]\n\t(No symbol) [0x011612BB]\n\t(No symbol) [0x01154857]\n\tBaseThreadInitThunk [0x76107D59+25]\n\tRtlInitializeExceptionChain [0x774BB74B+107]\n\tRtlClearBits [0x774BB6CF+191]\n",
     "output_type": "error",
     "traceback": [
      "\u001b[1;31m---------------------------------------------------------------------------\u001b[0m",
      "\u001b[1;31mStaleElementReferenceException\u001b[0m            Traceback (most recent call last)",
      "Cell \u001b[1;32mIn[3], line 14\u001b[0m\n\u001b[0;32m     11\u001b[0m comfort \u001b[39m=\u001b[39m driver\u001b[39m.\u001b[39mfind_elements(By\u001b[39m.\u001b[39mCSS_SELECTOR, \u001b[39m\"\u001b[39m\u001b[39mspan[class=\u001b[39m\u001b[39m'\u001b[39m\u001b[39mf9afbb0024\u001b[39m\u001b[39m'\u001b[39m\u001b[39m]\u001b[39m\u001b[39m\"\u001b[39m)\n\u001b[0;32m     13\u001b[0m \u001b[39mfor\u001b[39;00m c \u001b[39min\u001b[39;00m city:\n\u001b[1;32m---> 14\u001b[0m     \u001b[39mif\u001b[39;00m c\u001b[39m.\u001b[39;49mtext \u001b[39m!=\u001b[39m \u001b[39m'\u001b[39m\u001b[39mPokaż na mapie\u001b[39m\u001b[39m'\u001b[39m:\n\u001b[0;32m     15\u001b[0m         city_table\u001b[39m.\u001b[39mappend(c\u001b[39m.\u001b[39mtext)\n\u001b[0;32m     17\u001b[0m \u001b[39mfor\u001b[39;00m c \u001b[39min\u001b[39;00m cost:\n",
      "File \u001b[1;32m~\\AppData\\Roaming\\Python\\Python311\\site-packages\\selenium\\webdriver\\remote\\webelement.py:90\u001b[0m, in \u001b[0;36mWebElement.text\u001b[1;34m(self)\u001b[0m\n\u001b[0;32m     87\u001b[0m \u001b[39m@property\u001b[39m\n\u001b[0;32m     88\u001b[0m \u001b[39mdef\u001b[39;00m \u001b[39mtext\u001b[39m(\u001b[39mself\u001b[39m) \u001b[39m-\u001b[39m\u001b[39m>\u001b[39m \u001b[39mstr\u001b[39m:\n\u001b[0;32m     89\u001b[0m \u001b[39m    \u001b[39m\u001b[39m\"\"\"The text of the element.\"\"\"\u001b[39;00m\n\u001b[1;32m---> 90\u001b[0m     \u001b[39mreturn\u001b[39;00m \u001b[39mself\u001b[39;49m\u001b[39m.\u001b[39;49m_execute(Command\u001b[39m.\u001b[39;49mGET_ELEMENT_TEXT)[\u001b[39m\"\u001b[39m\u001b[39mvalue\u001b[39m\u001b[39m\"\u001b[39m]\n",
      "File \u001b[1;32m~\\AppData\\Roaming\\Python\\Python311\\site-packages\\selenium\\webdriver\\remote\\webelement.py:403\u001b[0m, in \u001b[0;36mWebElement._execute\u001b[1;34m(self, command, params)\u001b[0m\n\u001b[0;32m    401\u001b[0m     params \u001b[39m=\u001b[39m {}\n\u001b[0;32m    402\u001b[0m params[\u001b[39m\"\u001b[39m\u001b[39mid\u001b[39m\u001b[39m\"\u001b[39m] \u001b[39m=\u001b[39m \u001b[39mself\u001b[39m\u001b[39m.\u001b[39m_id\n\u001b[1;32m--> 403\u001b[0m \u001b[39mreturn\u001b[39;00m \u001b[39mself\u001b[39;49m\u001b[39m.\u001b[39;49m_parent\u001b[39m.\u001b[39;49mexecute(command, params)\n",
      "File \u001b[1;32m~\\AppData\\Roaming\\Python\\Python311\\site-packages\\selenium\\webdriver\\remote\\webdriver.py:440\u001b[0m, in \u001b[0;36mWebDriver.execute\u001b[1;34m(self, driver_command, params)\u001b[0m\n\u001b[0;32m    438\u001b[0m response \u001b[39m=\u001b[39m \u001b[39mself\u001b[39m\u001b[39m.\u001b[39mcommand_executor\u001b[39m.\u001b[39mexecute(driver_command, params)\n\u001b[0;32m    439\u001b[0m \u001b[39mif\u001b[39;00m response:\n\u001b[1;32m--> 440\u001b[0m     \u001b[39mself\u001b[39;49m\u001b[39m.\u001b[39;49merror_handler\u001b[39m.\u001b[39;49mcheck_response(response)\n\u001b[0;32m    441\u001b[0m     response[\u001b[39m\"\u001b[39m\u001b[39mvalue\u001b[39m\u001b[39m\"\u001b[39m] \u001b[39m=\u001b[39m \u001b[39mself\u001b[39m\u001b[39m.\u001b[39m_unwrap_value(response\u001b[39m.\u001b[39mget(\u001b[39m\"\u001b[39m\u001b[39mvalue\u001b[39m\u001b[39m\"\u001b[39m, \u001b[39mNone\u001b[39;00m))\n\u001b[0;32m    442\u001b[0m     \u001b[39mreturn\u001b[39;00m response\n",
      "File \u001b[1;32m~\\AppData\\Roaming\\Python\\Python311\\site-packages\\selenium\\webdriver\\remote\\errorhandler.py:245\u001b[0m, in \u001b[0;36mErrorHandler.check_response\u001b[1;34m(self, response)\u001b[0m\n\u001b[0;32m    243\u001b[0m         alert_text \u001b[39m=\u001b[39m value[\u001b[39m\"\u001b[39m\u001b[39malert\u001b[39m\u001b[39m\"\u001b[39m]\u001b[39m.\u001b[39mget(\u001b[39m\"\u001b[39m\u001b[39mtext\u001b[39m\u001b[39m\"\u001b[39m)\n\u001b[0;32m    244\u001b[0m     \u001b[39mraise\u001b[39;00m exception_class(message, screen, stacktrace, alert_text)  \u001b[39m# type: ignore[call-arg]  # mypy is not smart enough here\u001b[39;00m\n\u001b[1;32m--> 245\u001b[0m \u001b[39mraise\u001b[39;00m exception_class(message, screen, stacktrace)\n",
      "\u001b[1;31mStaleElementReferenceException\u001b[0m: Message: stale element reference: stale element not found\n  (Session info: chrome=113.0.5672.129)\nStacktrace:\nBacktrace:\n\tGetHandleVerifier [0x011C8893+48451]\n\t(No symbol) [0x0115B8A1]\n\t(No symbol) [0x01065058]\n\t(No symbol) [0x010683F1]\n\t(No symbol) [0x01069631]\n\t(No symbol) [0x010696D0]\n\t(No symbol) [0x0108CE4D]\n\t(No symbol) [0x010AA2BC]\n\t(No symbol) [0x01089586]\n\t(No symbol) [0x010AA614]\n\t(No symbol) [0x010BC482]\n\t(No symbol) [0x010AA0B6]\n\t(No symbol) [0x01087E08]\n\t(No symbol) [0x01088F2D]\n\tGetHandleVerifier [0x01428E3A+2540266]\n\tGetHandleVerifier [0x01468959+2801161]\n\tGetHandleVerifier [0x0146295C+2776588]\n\tGetHandleVerifier [0x01252280+612144]\n\t(No symbol) [0x01164F6C]\n\t(No symbol) [0x011611D8]\n\t(No symbol) [0x011612BB]\n\t(No symbol) [0x01154857]\n\tBaseThreadInitThunk [0x76107D59+25]\n\tRtlInitializeExceptionChain [0x774BB74B+107]\n\tRtlClearBits [0x774BB6CF+191]\n"
     ]
    }
   ],
   "source": [
    "for i in range(1, 41):\n",
    "\n",
    "    sleep(3)\n",
    "\n",
    "    if driver.find_element(By.ID, 'onetrust-accept-btn-handler').is_displayed():\n",
    "        driver.find_element(By.ID, 'onetrust-accept-btn-handler').click()\n",
    "\n",
    "    city = driver.find_elements(By.CSS_SELECTOR, '.b4273d69aa')\n",
    "    cost = driver.find_elements(By.CSS_SELECTOR, '.fbd1d3018c')\n",
    "    rating = driver.find_elements(By.CSS_SELECTOR, '.d10a6220b4')\n",
    "    comfort = driver.find_elements(By.CSS_SELECTOR, \"span[class='f9afbb0024']\")\n",
    "\n",
    "    for c in city:\n",
    "        if c.text != 'Pokaż na mapie':\n",
    "            city_table.append(c.text)\n",
    "\n",
    "    for c in cost:\n",
    "        cost_table.append(int(c.text[:len(c.text) - 2].replace(\" \", \"\")))\n",
    "\n",
    "    for r in rating:\n",
    "        rating_tab.append(float(r.text.replace(\",\", \".\")))\n",
    "\n",
    "    for c in comfort:\n",
    "        comfort_tab.append(float(c.text[-3:].replace(\",\", \".\")))\n",
    "\n",
    "\n",
    "    button = driver.find_element(By.CSS_SELECTOR, \"button[aria-label='Następna strona']\")\n",
    "    button.click()"
   ]
  },
  {
   "cell_type": "code",
   "execution_count": 4,
   "metadata": {},
   "outputs": [
    {
     "name": "stdout",
     "output_type": "stream",
     "text": [
      "                                  City  Cost  Rating  Comfort\n",
      "0                          Kościelisko  4264     9.5      9.5\n",
      "1    Dzielnica Uzdrowiskowa, Kołobrzeg  7343     9.0      9.2\n",
      "2                          Mysłakowice  3736     8.9      9.1\n",
      "3                    Stare Bogaczowice  2287     9.1      9.1\n",
      "4                               Rogowo  6256     9.0      9.0\n",
      "..                                 ...   ...     ...      ...\n",
      "140                    Krzyki, Wrocław  4107     9.6      8.7\n",
      "141                             Lębork  3220     8.4      8.4\n",
      "142              Stare Miasto, Wrocław  4765     9.7      8.7\n",
      "143                              Radom  1503     9.5      9.4\n",
      "144                            Smolice  4589     8.7      8.4\n",
      "\n",
      "[145 rows x 4 columns]\n"
     ]
    }
   ],
   "source": [
    "info = list(zip(city_table, cost_table, rating_tab, comfort_tab))\n",
    "\n",
    "df = pd.DataFrame(info, columns=['City', 'Cost', 'Rating', 'Comfort'])\n",
    "print(df)\n",
    "\n",
    "df.to_csv('2plus2.csv')\n",
    "\n",
    "sleep(580)"
   ]
  }
 ],
 "metadata": {
  "kernelspec": {
   "display_name": "Python 3",
   "language": "python",
   "name": "python3"
  },
  "language_info": {
   "codemirror_mode": {
    "name": "ipython",
    "version": 3
   },
   "file_extension": ".py",
   "mimetype": "text/x-python",
   "name": "python",
   "nbconvert_exporter": "python",
   "pygments_lexer": "ipython3",
   "version": "3.11.2"
  },
  "orig_nbformat": 4
 },
 "nbformat": 4,
 "nbformat_minor": 2
}
